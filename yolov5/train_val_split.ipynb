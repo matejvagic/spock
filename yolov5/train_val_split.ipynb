{
 "cells": [
  {
   "cell_type": "code",
   "execution_count": 1,
   "metadata": {},
   "outputs": [],
   "source": [
    "import os\n",
    "import shutil\n",
    "from random import randrange"
   ]
  },
  {
   "cell_type": "code",
   "execution_count": 10,
   "metadata": {},
   "outputs": [],
   "source": [
    "train_directory = \"datasets/children/train\"\n",
    "val_directory = \"datasets/children/val\""
   ]
  },
  {
   "cell_type": "code",
   "execution_count": 3,
   "metadata": {},
   "outputs": [],
   "source": [
    "\n",
    "all_img_files = [filename for filename in os.listdir(os.path.join(train_directory,  \"labels\"))]\n",
    "total_img_files_len = len(all_img_files)\n"
   ]
  },
  {
   "cell_type": "code",
   "execution_count": 4,
   "metadata": {},
   "outputs": [
    {
     "name": "stdout",
     "output_type": "stream",
     "text": [
      "ADULT classes: 959 48.39%\n",
      "CHILD classes: 1023 51.61%\n",
      "Num of classes: 1982\n"
     ]
    }
   ],
   "source": [
    "child=0\n",
    "adult=1\n",
    "\n",
    "number_of_CHILD_CLASSES=0\n",
    "number_of_ADULT_CLASSES=0\n",
    "num_of_classes=0\n",
    "\n",
    "\n",
    "\n",
    "for filename in os.listdir(os.path.join(train_directory, \"labels\")):\n",
    "\n",
    "    if (filename[0] == \".\" or filename==\"labels.txt\"): ##.DS\n",
    "        continue\n",
    "\n",
    "    photo_class_set = set()\n",
    "    with open(os.path.join(os.path.join(train_directory, \"labels\"), filename), \"r\") as fr:\n",
    "        lines = fr.readlines()\n",
    "\n",
    "\n",
    "        for line in lines:\n",
    "            num_of_classes+=1\n",
    "            if (int(line[0]) == adult):\n",
    "                number_of_ADULT_CLASSES+=1\n",
    "                \n",
    "                \n",
    "            else:\n",
    "                number_of_CHILD_CLASSES+=1\n",
    "        fr.close()\n",
    "\n",
    "\n",
    "print(\"ADULT classes: \" + str(number_of_ADULT_CLASSES) + \" \" + str(round(number_of_ADULT_CLASSES/num_of_classes * 100,2 )) + \"%\")\n",
    "print(\"CHILD classes: \" + str(number_of_CHILD_CLASSES)+ \" \" + str(round(number_of_CHILD_CLASSES/num_of_classes * 100,2)) + \"%\")\n",
    "\n",
    "print(\"Num of classes: \" + str(num_of_classes))"
   ]
  },
  {
   "cell_type": "code",
   "execution_count": 5,
   "metadata": {},
   "outputs": [],
   "source": [
    "val_perc = 0.2\n",
    "set_of_included= set()\n",
    "child_target = round(val_perc * number_of_CHILD_CLASSES)\n",
    "adult_target = round(val_perc * number_of_ADULT_CLASSES)"
   ]
  },
  {
   "cell_type": "code",
   "execution_count": 15,
   "metadata": {},
   "outputs": [
    {
     "name": "stdout",
     "output_type": "stream",
     "text": [
      "datasets/children/train/images/443-4431203_the-latest-children-free-transparent-png-images-pre.jpg\n",
      "png\n",
      "datasets/children/train/images/istockphoto-1282389517-612x612.jpg\n",
      "datasets/children/val/images\n",
      "jpg\n",
      "datasets/children/train/images/pexels-photo-2253892.jpg\n",
      "datasets/children/train/images/pexels-sam-cardoso-3052354.jpg\n",
      "datasets/children/val/images\n",
      "jpg\n",
      "datasets/children/train/images/Easy-Childrens-Knitting-Patterns-Free-1.jpg\n",
      "datasets/children/val/images\n",
      "jpg\n",
      "datasets/children/train/images/AE9F38F8-8C3F-4782-B51E-1EF7B8927B07.jpg\n",
      "datasets/children/train/images/istockphoto-599995238-612x612.jpg\n",
      "datasets/children/val/images\n",
      "jpg\n",
      "datasets/children/train/images/istockphoto-1040307846-612x612.jpg\n",
      "datasets/children/val/images\n",
      "jpg\n",
      "datasets/children/train/images/kelli-mcclintock-U3SjBD72Tl0-unsplash.jpg\n",
      "datasets/children/val/images\n",
      "jpg\n",
      "datasets/children/train/images/istockphoto-541602804-612x612.jpg\n",
      "datasets/children/val/images\n",
      "jpg\n",
      "datasets/children/train/images/Free-T-Shirt-Sewing-Pattern-for-Boys-and-Girls4.jpg\n",
      "datasets/children/val/images\n",
      "jpg\n",
      "datasets/children/train/images/pexels-anna-shvets-3771673.jpg\n",
      "datasets/children/val/images\n",
      "jpg\n",
      "datasets/children/train/images/istockphoto-1187451220-612x612.jpg\n",
      "datasets/children/val/images\n",
      "jpg\n",
      "datasets/children/train/images/istockphoto-905902908-612x612.jpg\n",
      "datasets/children/val/images\n",
      "jpg\n",
      "datasets/children/train/images/istockphoto-464212215-612x612.jpg\n",
      "datasets/children/val/images\n",
      "jpg\n",
      "-7\n",
      "0\n"
     ]
    }
   ],
   "source": [
    "child_satisfied = False\n",
    "adult_satisfied= False\n",
    "adult=1\n",
    "child=0\n",
    "\n",
    "while ((child_target>0 or adult_target>0)):\n",
    "    flag = True\n",
    "    while(flag):\n",
    "        index = randrange(total_img_files_len)\n",
    "        if (index in set_of_included):\n",
    "            continue\n",
    "        filename = all_img_files[index]\n",
    "        flag = False\n",
    "    if (filename[0] == \".\" or filename==\"labels.txt\" or not os.path.isfile(os.path.join(os.path.join(train_directory, \"labels\"), filename))): ##.DS\n",
    "        continue\n",
    "\n",
    "    with open(os.path.join(os.path.join(train_directory, \"labels\"), filename), \"r\") as fr:\n",
    "        lines = fr.readlines()\n",
    "        child_num =0\n",
    "        adult_num=0\n",
    "        for line in lines:\n",
    "            if (int(line[0]) == adult):\n",
    "                adult_num+=1\n",
    "                \n",
    "            else:\n",
    "                child_num+=1\n",
    "\n",
    "        #\n",
    "        base = filename.split(\".\")[0:-1]\n",
    "        \n",
    "       \n",
    "        img = os.path.join(os.path.join(train_directory, \"images\"), \"\".join(base))\n",
    "        print(img +  \".jpg\")\n",
    "        if (os.path.isfile(img +  \".jpg\")):\n",
    "            #labels\n",
    "            shutil.move(os.path.join(os.path.join(train_directory, \"labels\"), filename), os.path.join(os.path.join(val_directory, \"labels\"), filename)) \n",
    "            #img\n",
    "            img_to = os.path.join(os.path.join(val_directory, \"images\"), \"\".join(base))\n",
    "            print(os.path.join(val_directory, \"images\"))\n",
    "            \n",
    "            shutil.move(img +  \".jpg\", img_to + \".jpg\") \n",
    "            print(\"jpg\")\n",
    "        elif (os.path.isfile(img +  \".webp\")):\n",
    "            #labels\n",
    "            shutil.move(os.path.join(os.path.join(train_directory, \"labels\"), filename), os.path.join(os.path.join(val_directory, \"labels\"), filename)) \n",
    "            #img\n",
    "            img_to = os.path.join(os.path.join(val_directory, \"images\"), \"\".join(base))\n",
    "            shutil.move(img +  \".webp\", img_to + \".webp\") \n",
    "   \n",
    "            print(\"webp\")\n",
    "        elif ( os.path.isfile(img  + \".png\")):\n",
    "            #labels\n",
    "            shutil.move(os.path.join(os.path.join(train_directory, \"labels\"), filename), os.path.join(os.path.join(val_directory, \"labels\"), filename)) \n",
    "            #img\n",
    "            img_to = os.path.join(os.path.join(val_directory, \"images\"), \"\".join(base))\n",
    "            shutil.move(img +  \".png\", img_to + \".png\") \n",
    "        \n",
    "            print(\"png\")\n",
    "\n",
    "        else:\n",
    "            continue\n",
    "\n",
    "        child_target-=child_num\n",
    "        adult_target-=adult_num\n",
    "\n",
    "        \n",
    "        \n",
    "        \n",
    "\n",
    "\n",
    "        \n",
    "                \n",
    "\n",
    "\n",
    "\n",
    "    \n",
    "print(child_target)\n",
    "print(adult_target)\n",
    "    "
   ]
  },
  {
   "cell_type": "code",
   "execution_count": null,
   "metadata": {},
   "outputs": [],
   "source": []
  }
 ],
 "metadata": {
  "interpreter": {
   "hash": "3067ead486e059ec00ffe7555bdb889e6e264a24dc711bf108106cc7baee8d5d"
  },
  "kernelspec": {
   "display_name": "Python 3.8.5 ('base')",
   "language": "python",
   "name": "python3"
  },
  "language_info": {
   "codemirror_mode": {
    "name": "ipython",
    "version": 3
   },
   "file_extension": ".py",
   "mimetype": "text/x-python",
   "name": "python",
   "nbconvert_exporter": "python",
   "pygments_lexer": "ipython3",
   "version": "3.8.5"
  },
  "orig_nbformat": 4
 },
 "nbformat": 4,
 "nbformat_minor": 2
}
