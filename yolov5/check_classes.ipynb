{
 "cells": [
  {
   "cell_type": "code",
   "execution_count": 1,
   "metadata": {},
   "outputs": [],
   "source": [
    "import os\n",
    "import shutil"
   ]
  },
  {
   "cell_type": "code",
   "execution_count": 27,
   "metadata": {},
   "outputs": [],
   "source": [
    "train_labels_directory = \"datasets/children/train/labels\""
   ]
  },
  {
   "cell_type": "code",
   "execution_count": 30,
   "metadata": {},
   "outputs": [
    {
     "name": "stdout",
     "output_type": "stream",
     "text": [
      "ADULT classes: 964 48.42%\n",
      "CHILD classes: 1027 51.58%\n",
      "ADULT ONLY photos: 422 47.52%\n",
      "CHILD ONLY photos: 408 45.95%\n",
      "Mixed photos: 58 6.53%\n",
      "Num of classes: 1991\n",
      "Num of photos: 888\n"
     ]
    }
   ],
   "source": [
    "child=0\n",
    "adult=1\n",
    "\n",
    "number_of_CHILD_CLASSES=0\n",
    "number_of_ADULT_CLASSES=0\n",
    "\n",
    "num_of_classes=0\n",
    "\n",
    "number_of_ADULT_ONLY_photos=0\n",
    "number_of_CHILD_ONLY_photos=0\n",
    "number_of_mixes_photos=0\n",
    "num_of_photos=0\n",
    "\n",
    "\n",
    "for filename in os.listdir(train_labels_directory):\n",
    "\n",
    "    if (filename[0] == \".\" or filename==\"labels.txt\"): ##.DS\n",
    "        continue\n",
    "\n",
    "    photo_class_set = set()\n",
    "\n",
    "\n",
    "    with open(os.path.join(train_labels_directory, filename), \"r\") as fr:\n",
    "        lines = fr.readlines()\n",
    "\n",
    "        num_of_photos+=1\n",
    "        for line in lines:\n",
    "            num_of_classes+=1\n",
    "            if (int(line[0]) == adult):\n",
    "                number_of_ADULT_CLASSES+=1\n",
    "                photo_class_set.add(adult)\n",
    "                \n",
    "            else:\n",
    "                number_of_CHILD_CLASSES+=1\n",
    "                photo_class_set.add(child)\n",
    "\n",
    "        if (len(photo_class_set) > 1):\n",
    "            number_of_mixes_photos+=1\n",
    "        else:\n",
    "            if (photo_class_set.pop() == adult):\n",
    "                number_of_ADULT_ONLY_photos+=1\n",
    "            else:\n",
    "                number_of_CHILD_ONLY_photos+=1\n",
    "                \n",
    "   \n",
    "        fr.close()\n",
    "\n",
    "\n",
    "print(\"ADULT classes: \" + str(number_of_ADULT_CLASSES) + \" \" + str(round(number_of_ADULT_CLASSES/num_of_classes * 100,2 )) + \"%\")\n",
    "print(\"CHILD classes: \" + str(number_of_CHILD_CLASSES)+ \" \" + str(round(number_of_CHILD_CLASSES/num_of_classes * 100,2)) + \"%\")\n",
    "print(\"ADULT ONLY photos: \" + str(number_of_ADULT_ONLY_photos)+ \" \" + str(round(number_of_ADULT_ONLY_photos/num_of_photos * 100,2))+ \"%\")\n",
    "print(\"CHILD ONLY photos: \" + str(number_of_CHILD_ONLY_photos)+ \" \" + str(round(number_of_CHILD_ONLY_photos/num_of_photos * 100,2))+ \"%\")\n",
    "print(\"Mixed photos: \" + str(number_of_mixes_photos)+ \" \" + str(round(number_of_mixes_photos/num_of_photos * 100,2))+ \"%\")\n",
    "\n",
    "print(\"Num of classes: \" + str(num_of_classes))\n",
    "print(\"Num of photos: \"  + str(num_of_photos))"
   ]
  }
 ],
 "metadata": {
  "interpreter": {
   "hash": "3067ead486e059ec00ffe7555bdb889e6e264a24dc711bf108106cc7baee8d5d"
  },
  "kernelspec": {
   "display_name": "Python 3.8.5 ('base')",
   "language": "python",
   "name": "python3"
  },
  "language_info": {
   "codemirror_mode": {
    "name": "ipython",
    "version": 3
   },
   "file_extension": ".py",
   "mimetype": "text/x-python",
   "name": "python",
   "nbconvert_exporter": "python",
   "pygments_lexer": "ipython3",
   "version": "3.8.5"
  },
  "orig_nbformat": 4
 },
 "nbformat": 4,
 "nbformat_minor": 2
}
